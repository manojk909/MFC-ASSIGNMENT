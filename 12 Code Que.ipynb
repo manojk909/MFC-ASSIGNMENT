{
 "cells": [
  {
   "cell_type": "markdown",
   "id": "e41bff8a",
   "metadata": {},
   "source": [
    "# Q. 1"
   ]
  },
  {
   "cell_type": "markdown",
   "id": "ba72902e",
   "metadata": {},
   "source": [
    "Write a code to find the degree of each vertex, and store it in a dictionary. \n",
    "Sort the keys of the dictionary by the degree stored in the values."
   ]
  },
  {
   "cell_type": "code",
   "execution_count": 16,
   "id": "d8af25c6",
   "metadata": {},
   "outputs": [
    {
     "data": {
      "text/plain": [
       "{'s4': 1, 's3': 2, 's1': 2, 's5': 2, 's2': 3}"
      ]
     },
     "execution_count": 16,
     "metadata": {},
     "output_type": "execute_result"
    }
   ],
   "source": [
    "def degree(graph, nodes):\n",
    "    #Covert graph into adjacency list\n",
    "    if type(graph)==list and type(graph[0])==tuple:\n",
    "        adjL = EL_AL(graph)                                #Convert Edge List to Adjacency List\n",
    "    elif type(graph)==list and type(graph[0]) == list:\n",
    "        adjL = MX_AL(graph, nodes)                         #Convert Matrix to Adjacency List\n",
    "    else:\n",
    "        adjL = graph                  #If graph is adjacency list format then no need to convert\n",
    "\n",
    "    #Create a dictionary to store the degree for each node\n",
    "    degree_dict = {}\n",
    "    keyLst = []         #List to store nodes for sorting\n",
    "    for key in adjL.keys():\n",
    "        degree_dict[key] = len(adjL[key])\n",
    "        keyLst.append(key)\n",
    "    \n",
    "    #Sort the keys of the dictionary by the degree stored in the values\n",
    "    for i in range(len(keyLst)):\n",
    "        for j in range(i + 1, len(keyLst)):\n",
    "            if degree_dict[keyLst[i]] > degree_dict[keyLst[j]]:\n",
    "                keyLst[i], keyLst[j] = keyLst[j], keyLst[i]      # Swapping\n",
    "\n",
    "    #Create a new dictionary based on the sorted order of nodes\n",
    "    sorted_dict = {}\n",
    "    for key in keyLst:\n",
    "        sorted_dict[key] = degree_dict[key]\n",
    "    return sorted_dict             # Return the sorted dictionary\n",
    "\n",
    "AM = [[0, 1, 0, 0, 1],\n",
    "       [1, 0, 1, 0, 1],\n",
    "       [0, 1, 0, 1, 0],\n",
    "       [0, 0, 1, 0, 0],\n",
    "       [1, 1, 0, 0, 0]]\n",
    "nodes = [\"s1\", \"s2\", \"s3\", \"s4\", \"s5\"]\n",
    "degree(AM, nodes)"
   ]
  },
  {
   "cell_type": "markdown",
   "id": "e576a271",
   "metadata": {},
   "source": [
    "# Q. 2"
   ]
  },
  {
   "cell_type": "markdown",
   "id": "86a83a3f",
   "metadata": {},
   "source": [
    "Write a code to inter-convert the 3 graph representations we have learnt."
   ]
  },
  {
   "cell_type": "code",
   "execution_count": 17,
   "id": "25196913",
   "metadata": {},
   "outputs": [
    {
     "data": {
      "text/plain": [
       "[('s1', 's2'),\n",
       " ('s1', 's5'),\n",
       " ('s2', 's1'),\n",
       " ('s2', 's3'),\n",
       " ('s2', 's5'),\n",
       " ('s3', 's2'),\n",
       " ('s3', 's4'),\n",
       " ('s4', 's3'),\n",
       " ('s5', 's1'),\n",
       " ('s5', 's2')]"
      ]
     },
     "execution_count": 17,
     "metadata": {},
     "output_type": "execute_result"
    }
   ],
   "source": [
    "#ADJACENCY LIST to EDGE LIST \n",
    "def AL_EL(AL):\n",
    "    EL = []     # Create empty edge list\n",
    "    for node in AL.keys():      #Loop through each node in the adjacency list\n",
    "        for data in AL[node]:   # Loop through each adjacent node of the node\n",
    "            EL.append((node, data))   # Append the tuple(node, adjacent node)\n",
    "    return EL   # Return the complete edge list\n",
    "\n",
    "AL = {\"s1\":[\"s2\", \"s5\"],\n",
    "       \"s2\":[\"s1\", \"s3\", \"s5\"],\n",
    "       \"s3\":[\"s2\", \"s4\"],\n",
    "       \"s4\":[\"s3\"],\n",
    "       \"s5\":[\"s1\", \"s2\"]}\n",
    "AL_EL(AL)"
   ]
  },
  {
   "cell_type": "code",
   "execution_count": 18,
   "id": "0c143686",
   "metadata": {},
   "outputs": [
    {
     "data": {
      "text/plain": [
       "{'s1': ['s2', 's5'],\n",
       " 's2': ['s1', 's3', 's5'],\n",
       " 's3': ['s2', 's4'],\n",
       " 's4': ['s3'],\n",
       " 's5': ['s1', 's2']}"
      ]
     },
     "execution_count": 18,
     "metadata": {},
     "output_type": "execute_result"
    }
   ],
   "source": [
    "#EDGE LIST to ADJACENCY LIST\n",
    "def EL_AL(EL):\n",
    "    AL = {}     #Create empty adjacency list(dict)\n",
    "    for tpl in EL:      # Iterate over each tuple in the edge list\n",
    "        node = tpl[0]\n",
    "        if node in AL:\n",
    "            AL[tpl[0]].append(tpl[1])   #Append adjacent node to existing list\n",
    "        else:\n",
    "            AL[tpl[0]] = [tpl[1]]       #Create new list if node not already in AL\n",
    "    return AL\n",
    "\n",
    "ED = [('s1','s2'), ('s1','s5'), ('s2','s1'), ('s2','s3'), ('s2','s5'), ('s3','s2'), ('s3','s4'), ('s4','s3'), ('s5','s1'), ('s5','s2')]\n",
    "EL_AL(ED)"
   ]
  },
  {
   "cell_type": "code",
   "execution_count": 19,
   "id": "26123595",
   "metadata": {},
   "outputs": [
    {
     "data": {
      "text/plain": [
       "[[0, 1, 0, 0, 1],\n",
       " [1, 0, 1, 0, 1],\n",
       " [0, 1, 0, 1, 0],\n",
       " [0, 0, 1, 0, 0],\n",
       " [1, 1, 0, 0, 0]]"
      ]
     },
     "execution_count": 19,
     "metadata": {},
     "output_type": "execute_result"
    }
   ],
   "source": [
    "#ADJACENCY LIST to ADJACENCY MATRIX\n",
    "def AL_MX(AD, node):\n",
    "    AM = []     #Create empty adjacency matrix\n",
    "    for i in range(len(node)):\n",
    "        for key in AD.keys():\n",
    "            if node[i] == key:\n",
    "                row = []    #Start a new row for this node\n",
    "                for j in range(len(node)):      #Iterate over all possible destination nodes\n",
    "                    if node[j] in AD[key]:\n",
    "                        row.append(1)       #If they are adjacent, mark with 1\n",
    "                    else:\n",
    "                        row.append(0)       # Otherwise, mark with 0\n",
    "                AM.append(row)      #Append the completed row to the matrix\n",
    "    return AM       # Return the complete adjacency matrix\n",
    "\n",
    "AL = {\"s1\":[\"s2\", \"s5\"],\n",
    "       \"s2\":[\"s1\", \"s3\", \"s5\"],\n",
    "       \"s3\":[\"s2\", \"s4\"],\n",
    "       \"s4\":[\"s3\"],\n",
    "       \"s5\":[\"s1\", \"s2\"]}\n",
    "nodes = [\"s1\", \"s2\", \"s3\", \"s4\", \"s5\"]\n",
    "AL_MX(AL, nodes)"
   ]
  },
  {
   "cell_type": "code",
   "execution_count": 20,
   "id": "dc10b2dd",
   "metadata": {},
   "outputs": [
    {
     "data": {
      "text/plain": [
       "{'s1': ['s2', 's5'],\n",
       " 's2': ['s1', 's3', 's5'],\n",
       " 's3': ['s2', 's4'],\n",
       " 's4': ['s3'],\n",
       " 's5': ['s1', 's2']}"
      ]
     },
     "execution_count": 20,
     "metadata": {},
     "output_type": "execute_result"
    }
   ],
   "source": [
    "#ADJACENCY MATRIX to ADJACENCY LIST\n",
    "def MX_AL(mx, node):\n",
    "    AL = {}     #Create empty adjacency list(dictionary)\n",
    "    for i in range(len(mx)):    #Loop through each row of matrix\n",
    "        valueLst = []\n",
    "        for j in range(len(mx[i])): #Loop through each value of row\n",
    "            if mx[i][j] == 1:\n",
    "                valueLst.append(node[j])    #If there is an edge, add to value list\n",
    "        AL[node[i]] = valueLst      #Adding node and its adjacent nodes in dictionary\n",
    "    return AL       #Return the adjacency list\n",
    "\n",
    "AM = [[0, 1, 0, 0, 1],\n",
    "       [1, 0, 1, 0, 1],\n",
    "       [0, 1, 0, 1, 0],\n",
    "       [0, 0, 1, 0, 0],\n",
    "       [1, 1, 0, 0, 0]]\n",
    "nodes = [\"s1\", \"s2\", \"s3\", \"s4\", \"s5\"]\n",
    "MX_AL(AM, nodes)"
   ]
  },
  {
   "cell_type": "code",
   "execution_count": 21,
   "id": "faaeb19e",
   "metadata": {},
   "outputs": [
    {
     "data": {
      "text/plain": [
       "[[0, 1, 0, 0, 1],\n",
       " [1, 0, 1, 0, 1],\n",
       " [0, 1, 0, 1, 0],\n",
       " [0, 0, 1, 0, 0],\n",
       " [1, 1, 0, 0, 0]]"
      ]
     },
     "execution_count": 21,
     "metadata": {},
     "output_type": "execute_result"
    }
   ],
   "source": [
    "#EDGE LIST to ADJACENCY MATRIX\n",
    "def ED_MX(ed, node):\n",
    "    mx = []     #Create empty adjacency matrix\n",
    "    for i in range(len(node)):\n",
    "        row = []    #Create empty row\n",
    "        for j in range(len(node)):\n",
    "            if (node[i], node[j]) in ed:\n",
    "                row.append(1)   # Edge exists between node[i] & node[j]\n",
    "            else:\n",
    "                row.append(0)   # No edge\n",
    "        mx.append(row)      # Append completed row to the matrix\n",
    "    return mx   # Return the adjacency matrix\n",
    "\n",
    "ED = [('s1','s2'), ('s1','s5'), ('s2','s1'), ('s2','s3'), ('s2','s5'), ('s3','s2'), ('s3','s4'), ('s4','s3'), ('s5','s1'), ('s5','s2')]\n",
    "nodes = [\"s1\", \"s2\", \"s3\", \"s4\", \"s5\"]\n",
    "ED_MX(ED, nodes)"
   ]
  },
  {
   "cell_type": "code",
   "execution_count": 22,
   "id": "deab72df",
   "metadata": {},
   "outputs": [
    {
     "data": {
      "text/plain": [
       "[('s1', 's2'),\n",
       " ('s1', 's5'),\n",
       " ('s2', 's1'),\n",
       " ('s2', 's3'),\n",
       " ('s2', 's5'),\n",
       " ('s3', 's2'),\n",
       " ('s3', 's4'),\n",
       " ('s4', 's3'),\n",
       " ('s5', 's1'),\n",
       " ('s5', 's2')]"
      ]
     },
     "execution_count": 22,
     "metadata": {},
     "output_type": "execute_result"
    }
   ],
   "source": [
    "#ADJACENCY MATRIX to EDGE LIST\n",
    "def MX_ED(mx, node):\n",
    "    ed = []     # Create empty edge list\n",
    "    for i in range(len(mx)):\n",
    "        for j in range(len(mx[i])):\n",
    "            if mx[i][j] == 1:\n",
    "                ed.append((node[i], node[j]))   # Add pair of nodes if matrix entry is 1\n",
    "    return ed   # Return the edge list\n",
    "\n",
    "AM = [[0, 1, 0, 0, 1],\n",
    "       [1, 0, 1, 0, 1],\n",
    "       [0, 1, 0, 1, 0],\n",
    "       [0, 0, 1, 0, 0],\n",
    "       [1, 1, 0, 0, 0]]\n",
    "nodes = [\"s1\", \"s2\", \"s3\", \"s4\", \"s5\"]\n",
    "MX_ED(AM, nodes)"
   ]
  },
  {
   "cell_type": "markdown",
   "id": "6c2ec80d",
   "metadata": {},
   "source": [
    "# Q. 3"
   ]
  },
  {
   "cell_type": "markdown",
   "id": "748924a0",
   "metadata": {},
   "source": [
    "Given a graph and two vertices, check if they are adjacent. "
   ]
  },
  {
   "cell_type": "code",
   "execution_count": 23,
   "id": "d33cb127",
   "metadata": {},
   "outputs": [
    {
     "data": {
      "text/plain": [
       "False"
      ]
     },
     "execution_count": 23,
     "metadata": {},
     "output_type": "execute_result"
    }
   ],
   "source": [
    "def check_adj(graph, nodes, n1, n2):\n",
    "    # Covert graph into adjacency list\n",
    "    if type(graph)==list and type(graph[0])==tuple:\n",
    "        adjL = EL_AL(graph)                                #Convert Edge List to Adjacency List\n",
    "    elif type(graph)==list and type(graph[0]) == list:\n",
    "        adjL = MX_AL(graph, nodes)                         #Convert Matrix to Adjacency List\n",
    "    else:\n",
    "        adjL = graph                  #If graph is adjacency list format then no need to convert\n",
    "\n",
    "    # Check if node n2 is adjacent to node n1\n",
    "    for key in adjL.keys():\n",
    "        if key == n1:\n",
    "            if n2 in adjL[key]: # Check the other node is in its adjacency list or not\n",
    "                return True     # Nodes are adjacent\n",
    "            else:\n",
    "                return False    # Nodes are not adjacent\n",
    "\n",
    "AM = [[0, 1, 0, 0, 1],\n",
    "       [1, 0, 1, 0, 1],\n",
    "       [0, 1, 0, 1, 0],\n",
    "       [0, 0, 1, 0, 0],\n",
    "       [1, 1, 0, 0, 0]]\n",
    "nodes = [\"s1\", \"s2\", \"s3\", \"s4\", \"s5\"]    \n",
    "check_adj(AM, nodes, 's2', 's4')"
   ]
  },
  {
   "cell_type": "markdown",
   "id": "a0d52b47",
   "metadata": {},
   "source": [
    "# Q. 4"
   ]
  },
  {
   "cell_type": "markdown",
   "id": "0a12fcef",
   "metadata": {},
   "source": [
    "Check if a graph is complete."
   ]
  },
  {
   "cell_type": "code",
   "execution_count": 24,
   "id": "d61c449c",
   "metadata": {},
   "outputs": [
    {
     "data": {
      "text/plain": [
       "False"
      ]
     },
     "execution_count": 24,
     "metadata": {},
     "output_type": "execute_result"
    }
   ],
   "source": [
    "def complete_graph(graph, nodes):\n",
    "    # Coverting graph into adjacency matrix\n",
    "    if type(graph)==list and type(graph[0])==tuple:\n",
    "        adjM = ED_MX(graph, nodes)                # Convert Edge List to Adjacency Matrix\n",
    "    elif type(graph) == dict:\n",
    "        adjM = AL_MX(graph, nodes)                # Convert Adjacency List to Adjacency Matrix\n",
    "    else:\n",
    "        adjM = graph                              # If the graph is an Adjacency Matrix no need to convert\n",
    "    c=0\n",
    "    # Check if all non diagonal elements are 1 or not\n",
    "    for i in range(len(adjM)):\n",
    "        for j in range(len(adjM[i])):\n",
    "            if i!=j:\n",
    "                if adjM[i][j] != 1:\n",
    "                    c+=1\n",
    "                    break   # No need to check more if one is missing\n",
    "\n",
    "    if c==0 and connected_graph(graph, nodes):\n",
    "        return True     # if it's a complete graph\n",
    "    else:\n",
    "        return False    # if not a complete graph\n",
    "\n",
    "ED = [('s1','s2'), ('s1','s5'), ('s2','s1'), ('s2','s3'), ('s2','s5'), ('s3','s2'), ('s3','s4'), ('s4','s3'), ('s5','s1'), ('s5','s2')]\n",
    "nodes = [\"s1\", \"s2\", \"s3\", \"s4\", \"s5\"]\n",
    "complete_graph(ED, nodes)"
   ]
  },
  {
   "cell_type": "markdown",
   "id": "e9fb0fbb",
   "metadata": {},
   "source": [
    "# Q. 5"
   ]
  },
  {
   "cell_type": "markdown",
   "id": "9c42227b",
   "metadata": {},
   "source": [
    "Check if a graph is connected."
   ]
  },
  {
   "cell_type": "code",
   "execution_count": 25,
   "id": "e8218974",
   "metadata": {},
   "outputs": [
    {
     "data": {
      "text/plain": [
       "True"
      ]
     },
     "execution_count": 25,
     "metadata": {},
     "output_type": "execute_result"
    }
   ],
   "source": [
    "def connected_graph(graph, nodes):\n",
    "    # Covert graph into adjacency list\n",
    "    if type(graph)==list and type(graph[0])==tuple:\n",
    "        adjL = EL_AL(graph)                                #Convert Edge List to Adjacency List\n",
    "    elif type(graph)==list and type(graph[0]) == list:\n",
    "        adjL = MX_AL(graph, nodes)                         #Convert Matrix to Adjacency List\n",
    "    else:\n",
    "        adjL = graph                  #If graph is adjacency list format then no need to convert\n",
    "    \n",
    "    visitLst = []   # Keeps track of visited nodes\n",
    "    queue = [nodes[0]]      # Initialize queue with the first node\n",
    "    while len(queue)!=0:\n",
    "        target =queue[0]    # Get the first node in the queue\n",
    "        if target not in visitLst:\n",
    "                visitLst.append(target)     # Mark it as visited\n",
    "        for nd in adjL[target]:     # Add all unvisited and unqueued neighbors to the queue\n",
    "            if nd not in queue and nd not in visitLst:\n",
    "                queue.append(nd)\n",
    "        queue.pop(0)    # Remove the processed node from the queue\n",
    "    return len(visitLst) == len(nodes)     # Check if all nodes were visited or not\n",
    "\n",
    "ED = [('s1','s2'), ('s1','s5'), ('s2','s1'), ('s2','s3'), ('s2','s5'), ('s3','s2'), ('s3','s4'), ('s4','s3'), ('s5','s1'), ('s5','s2')]\n",
    "nodes = [\"s1\", \"s2\", \"s3\", \"s4\", \"s5\"]    \n",
    "connected_graph(ED, nodes)"
   ]
  },
  {
   "cell_type": "markdown",
   "id": "dd6d79f2",
   "metadata": {},
   "source": [
    "# Q. 6"
   ]
  },
  {
   "cell_type": "markdown",
   "id": "1e65a044",
   "metadata": {},
   "source": [
    "Given a graph and a list of nodes_lst, check if it forms a walk, or a trail or a path or none of these."
   ]
  },
  {
   "cell_type": "code",
   "execution_count": 26,
   "id": "2e609adc",
   "metadata": {},
   "outputs": [
    {
     "data": {
      "text/plain": [
       "'Path'"
      ]
     },
     "execution_count": 26,
     "metadata": {},
     "output_type": "execute_result"
    }
   ],
   "source": [
    "def check_WTP(graph, nodes_lst):\n",
    "    # Covert graph into adjacency list\n",
    "    if type(graph)==list and type(graph[0])==tuple:\n",
    "        adjL = EL_AL(graph)                                #Convert Edge List to Adjacency List\n",
    "    elif type(graph)==list and type(graph[0]) == list:\n",
    "        adjL = MX_AL(graph, nodes)                         #Convert Matrix to Adjacency List\n",
    "    else:\n",
    "        adjL = graph                  #If graph is adjacency list format then no need to convert\n",
    "\n",
    "    edgeLst = []\n",
    "    for i in range(len(nodes_lst) - 1):     # Check if each pair of consecutive nodes in the path is connected\n",
    "        n1, n2 = nodes_lst[i], nodes_lst[i+1]   # No edge between two consecutive nodes\n",
    "        if n2 not in adjL[n1]:\n",
    "            return \"None\"       #NONE of walk, path and trail\n",
    "        edgeLst.append((n1, n2))        # Store the edge\n",
    "\n",
    "    # Check if the walk is a Trail or Path\n",
    "    # Check for Trail(no edge is repeated)\n",
    "    unique_edges = []\n",
    "    for eL in edgeLst:\n",
    "        if eL not in unique_edges and (eL[1], eL[0]) not in unique_edges:\n",
    "            unique_edges.append(eL)\n",
    "\n",
    "    # Check for Path(no node is repeated)\n",
    "    unique_nodes = []\n",
    "    for n2 in nodes_lst:\n",
    "        if n2 not in unique_nodes:\n",
    "            unique_nodes.append(n2)\n",
    "\n",
    "    if len(unique_edges) == len(edgeLst) and len(unique_nodes) == len(nodes_lst):\n",
    "        return \"Path\"\n",
    "    elif len(unique_edges) == len(edgeLst):\n",
    "        return \"Trail\"\n",
    "    else:\n",
    "        return \"Walk\"\n",
    "    \n",
    "ED = [('s1','s2'), ('s1','s5'), ('s2','s1'), ('s2','s3'), ('s2','s5'), ('s3','s2'), ('s3','s4'), ('s4','s3'), ('s5','s1'), ('s5','s2')]\n",
    "lst = ['s3', 's2', 's1']\n",
    "check_WTP(ED, lst)"
   ]
  },
  {
   "cell_type": "markdown",
   "id": "2225299f",
   "metadata": {},
   "source": [
    "# Q. 7"
   ]
  },
  {
   "cell_type": "markdown",
   "id": "00c6e182",
   "metadata": {},
   "source": [
    "Check if a given graph is a tree."
   ]
  },
  {
   "cell_type": "code",
   "execution_count": 27,
   "id": "bcac71b3",
   "metadata": {},
   "outputs": [
    {
     "data": {
      "text/plain": [
       "False"
      ]
     },
     "execution_count": 27,
     "metadata": {},
     "output_type": "execute_result"
    }
   ],
   "source": [
    "def checkTree(graph, nodes):\n",
    "    # Coverting graph into adjacency matrix\n",
    "    if type(graph)==list and type(graph[0])==tuple:\n",
    "        adjM = ED_MX(graph, nodes)                # Convert Edge List to Adjacency Matrix\n",
    "    elif type(graph) == dict:\n",
    "        adjM = AL_MX(graph, nodes)                # Convert Adjacency List to Adjacency Matrix\n",
    "    else:\n",
    "        adjM = graph                              # If the graph is an Adjacency Matrix no need to convert\n",
    "\n",
    "    # Count total number of edges in the graph\n",
    "    edges = 0\n",
    "    for i in range(len(adjM)):\n",
    "        edges += sum(adjM[i])\n",
    "   \n",
    "   # Check total edges-1 is equal to total no. of node and check if graph if connected or not by calling function\n",
    "    if edges-1 == len(nodes) and connected_graph(graph, nodes):\n",
    "        return True     # It is a Tree(connected and acyclic)\n",
    "    else:\n",
    "        return False    # Not a Tree\n",
    "    \n",
    "ED = [('s1','s2'), ('s1','s5'), ('s2','s1'), ('s2','s3'), ('s2','s5'), ('s3','s2'), ('s3','s4'), ('s4','s3'), ('s5','s1'), ('s5','s2')]\n",
    "nodes = [\"s1\", \"s2\", \"s3\", \"s4\", \"s5\"]    \n",
    "checkTree(ED, nodes)"
   ]
  },
  {
   "cell_type": "markdown",
   "id": "693a7ec2",
   "metadata": {},
   "source": [
    "# Q. 8"
   ]
  },
  {
   "cell_type": "markdown",
   "id": "a4e3e648",
   "metadata": {},
   "source": [
    "Given a connected cyclic graph, find its spanning tree."
   ]
  },
  {
   "cell_type": "code",
   "execution_count": 28,
   "id": "4dd646b6",
   "metadata": {},
   "outputs": [
    {
     "data": {
      "text/plain": [
       "{'s1': ['s2', 's5'],\n",
       " 's2': ['s1', 's5', 's3'],\n",
       " 's3': ['s2', 's4'],\n",
       " 's4': ['s3'],\n",
       " 's5': ['s1', 's2']}"
      ]
     },
     "execution_count": 28,
     "metadata": {},
     "output_type": "execute_result"
    }
   ],
   "source": [
    "def spanning_tree(graph, nodes):\n",
    "    # Covert graph into adjacency list\n",
    "    if type(graph)==list and type(graph[0])==tuple:\n",
    "        adjL = EL_AL(graph)                                #Convert Edge List to Adjacency List\n",
    "    elif type(graph)==list and type(graph[0]) == list:\n",
    "        adjL = MX_AL(graph, nodes)                         #Convert Matrix to Adjacency List\n",
    "    else:\n",
    "        adjL = graph                  #If graph is adjacency list format then no need to convert\n",
    "    \n",
    "    sp_tree = {}  # Dictionary to store the spanning tree\n",
    "    visitedLst = []  # List to track visitedLst nodes\n",
    "    \n",
    "    # Initialize spanning tree with empty lists for each node\n",
    "    for node in adjL:\n",
    "        sp_tree[node] = []\n",
    "\n",
    "    # Create a list of nodes(keys of the adjLst)\n",
    "    nodes = []\n",
    "    for node in adjL:\n",
    "        nodes.append(node)\n",
    "    \n",
    "    # Start with the first node in the list\n",
    "    stack = [nodes[0]]\n",
    "    \n",
    "    while len(stack) > 0:\n",
    "        node = stack.pop()            # Take one node from the stack\n",
    "        if node not in visitedLst:    # If the node hasn't been visitedLst yet\n",
    "            visitedLst.append(node)   # Mark it as visited\n",
    "            for neighbor in adjL[node]:            # Adding its neighbors to the stack and spanning tree\n",
    "                if neighbor not in visitedLst:\n",
    "                    sp_tree[node].append(neighbor)\n",
    "                    sp_tree[neighbor].append(node)  # Make sure it's undirected\n",
    "                    stack.append(neighbor)          # Adding neighbor to the stack to visit later\n",
    "    return sp_tree\n",
    "\n",
    "\n",
    "AM = [[0, 1, 0, 0, 1],\n",
    "       [1, 0, 1, 0, 1],\n",
    "       [0, 1, 0, 1, 0],\n",
    "       [0, 0, 1, 0, 0],\n",
    "       [1, 1, 0, 0, 0]]\n",
    "nodes = [\"s1\", \"s2\", \"s3\", \"s4\", \"s5\"] \n",
    "spanning_tree(AM, nodes)"
   ]
  },
  {
   "cell_type": "markdown",
   "id": "2a2688a9",
   "metadata": {},
   "source": [
    "# Q. 9"
   ]
  },
  {
   "cell_type": "markdown",
   "id": "d1a0af8c",
   "metadata": {},
   "source": [
    "Given a tree, find the number of leaf nodes."
   ]
  },
  {
   "cell_type": "code",
   "execution_count": 29,
   "id": "123aae8d",
   "metadata": {},
   "outputs": [
    {
     "data": {
      "text/plain": [
       "3"
      ]
     },
     "execution_count": 29,
     "metadata": {},
     "output_type": "execute_result"
    }
   ],
   "source": [
    "def leaf_nodes(graph, node_lst):\n",
    "    # Covert graph into adjacency list\n",
    "    if type(graph)==list and type(graph[0])==tuple:\n",
    "        tree = EL_AL(graph)                                #Convert Edge List to Adjacency List\n",
    "    elif type(graph)==list and type(graph[0]) == list:\n",
    "        tree = MX_AL(graph, node_lst)                         #Convert Matrix to Adjacency List\n",
    "    else:\n",
    "        tree = graph                  #If graph is adjacency list format then no need to convert\n",
    "   \n",
    "    count = 0       # Counter for leaf nodes\n",
    "    # Check for leaf node\n",
    "    for node in tree:\n",
    "        if len(tree[node]) == 1:    # Leaf node has exactly one connection(with parent) (degree = 1)\n",
    "            count += 1\n",
    "    return count        # Return total number of leaf nodes\n",
    "\n",
    "AL = {'A': ['B', 'C'],\n",
    "            'B': ['A', 'D', 'E'],\n",
    "            'C': ['A'],\n",
    "            'D': ['B'],\n",
    "            'E': ['B']}\n",
    "\n",
    "\n",
    "nodes = ['A', 'B', 'C', 'D', 'E']\n",
    "leaf_nodes(AL, nodes)"
   ]
  },
  {
   "cell_type": "markdown",
   "id": "6f9e638a",
   "metadata": {},
   "source": [
    "# Q. 10"
   ]
  },
  {
   "cell_type": "markdown",
   "id": "ec4d8fc0",
   "metadata": {},
   "source": [
    "Given a tree, check if it's a binary tree."
   ]
  },
  {
   "cell_type": "code",
   "execution_count": 30,
   "id": "494c0b14",
   "metadata": {},
   "outputs": [
    {
     "data": {
      "text/plain": [
       "True"
      ]
     },
     "execution_count": 30,
     "metadata": {},
     "output_type": "execute_result"
    }
   ],
   "source": [
    "def check_binaryTree(graph, node_lst):\n",
    "    # Covert graph into adjacency list\n",
    "    if type(graph)==list and type(graph[0])==tuple:\n",
    "        tree = EL_AL(graph)                                #Convert Edge List to Adjacency List\n",
    "    elif type(graph)==list and type(graph[0]) == list:\n",
    "        tree = MX_AL(graph, node_lst)                         #Convert Matrix to Adjacency List\n",
    "    else:\n",
    "        tree = graph                  #If graph is adjacency list format then no need to convert\n",
    "\n",
    "    # In an undirected binary tree, a node can have at most 3 connections(parent and 2 children)\n",
    "    for node in tree:\n",
    "        if len(tree[node]) > 3:\n",
    "            return False    # Node has more than 2 child\n",
    "    return True     # All nodes satisfy binary tree condition\n",
    "\n",
    "AL = {'A': ['B', 'C'],\n",
    "      'B': ['A','D', 'E'],\n",
    "      'C': ['A'],\n",
    "      'D': ['B'],\n",
    "      'E': ['B']}\n",
    "\n",
    "nodes = ['A', 'B', 'C', 'D', 'E']\n",
    "check_binaryTree(AL, nodes)"
   ]
  },
  {
   "cell_type": "markdown",
   "id": "27eff53b",
   "metadata": {},
   "source": [
    "# Q. 11"
   ]
  },
  {
   "cell_type": "markdown",
   "id": "3ec06a1b",
   "metadata": {},
   "source": [
    "Given a tree and a node, find its height."
   ]
  },
  {
   "cell_type": "code",
   "execution_count": 31,
   "id": "ec2431a6",
   "metadata": {},
   "outputs": [
    {
     "data": {
      "text/plain": [
       "2"
      ]
     },
     "execution_count": 31,
     "metadata": {},
     "output_type": "execute_result"
    }
   ],
   "source": [
    "#This function calculates the height of the tree\n",
    "def find_height(graph, node_lst, node):\n",
    "    # Covert graph into adjacency list\n",
    "    if type(graph)==list and type(graph[0])==tuple:\n",
    "        tree = EL_AL(graph)                                #Convert Edge List to Adjacency List\n",
    "    elif type(graph)==list and type(graph[0]) == list:\n",
    "        tree = MX_AL(graph, node_lst)                         #Convert Matrix to Adjacency List\n",
    "    else:\n",
    "        tree = graph                  #If graph is adjacency list format then no need to convert\n",
    "\n",
    "    # if the node has no children, its height is 0\n",
    "    if tree[node] == []:\n",
    "        return 0\n",
    "\n",
    "    max_val = 0  # this will store the maximum height of the tree\n",
    "    # for each child of the current node, find its height\n",
    "    for el in tree[node]:\n",
    "        height = find_height(tree, node_lst, el)  # recursive call to find the height of the child\n",
    "        if height > max_val:  # if this child's height is greater, update max_val\n",
    "            max_val = height\n",
    "\n",
    "    # return the height of the current node (1 for the current node itself, + max height of its children)\n",
    "    return 1 + max_val\n",
    "\n",
    "ALL = {'A': ['B', 'C'],\n",
    "      'B': ['D', 'E'],\n",
    "      'C': [],\n",
    "      'D': [],\n",
    "      'E': []}\n",
    "nodes = ['A', 'B', 'C', 'D', 'E']\n",
    "find_height(ALL, nodes, 'A')"
   ]
  },
  {
   "cell_type": "markdown",
   "id": "179c19f0",
   "metadata": {},
   "source": [
    "# Q. 12"
   ]
  },
  {
   "cell_type": "markdown",
   "id": "21c3a2ae",
   "metadata": {},
   "source": [
    "Given a tree and a element, find its depth."
   ]
  },
  {
   "cell_type": "code",
   "execution_count": 32,
   "id": "f166af04",
   "metadata": {},
   "outputs": [
    {
     "data": {
      "text/plain": [
       "1"
      ]
     },
     "execution_count": 32,
     "metadata": {},
     "output_type": "execute_result"
    }
   ],
   "source": [
    "def depth(graph, node_lst, node):\n",
    "    # Covert graph into adjacency list\n",
    "    if type(graph)==list and type(graph[0])==tuple:\n",
    "        tree = EL_AL(graph)                                #Convert Edge List to Adjacency List\n",
    "    elif type(graph)==list and type(graph[0]) == list:\n",
    "        tree = MX_AL(graph, node_lst)                         #Convert Matrix to Adjacency List\n",
    "    else:\n",
    "        tree = graph                  #If graph is adjacency list format then no need to convert\n",
    "\n",
    "    # Assume the first key in the dictionary is the root\n",
    "    root_nd = list(tree.keys())[0]\n",
    "    queue = [[root_nd, 0]]  # Each pair is [element, depth]\n",
    "    visited = [root_nd]     # Track visited nodes to avoid loops\n",
    "\n",
    "    while len(queue) > 0:\n",
    "        pair = queue.pop(0)     # Removing front element\n",
    "        element = pair[0]       # Current node\n",
    "        depth = pair[1]      # Current level of depth\n",
    "\n",
    "        if element == node:\n",
    "            return depth  # Return depth when target node is found\n",
    "\n",
    "        for i in range(len(tree[element])):   # Traverse adjacent nodes\n",
    "            neighbor = tree[element][i]\n",
    "            if neighbor not in visited:\n",
    "                visited.append(neighbor)\n",
    "                queue.append([neighbor, depth + 1])\n",
    "    return -1  # If node not found\n",
    "\n",
    "A = {'A': ['B', 'C'],\n",
    "      'B': ['A','D', 'E'],\n",
    "      'C': ['A'],\n",
    "      'D': ['B'],\n",
    "      'E': ['B']}\n",
    "nodes = ['A', 'B', 'C', 'D', 'E']\n",
    "depth(A, nodes, 'C')"
   ]
  }
 ],
 "metadata": {
  "kernelspec": {
   "display_name": "Python 3",
   "language": "python",
   "name": "python3"
  },
  "language_info": {
   "codemirror_mode": {
    "name": "ipython",
    "version": 3
   },
   "file_extension": ".py",
   "mimetype": "text/x-python",
   "name": "python",
   "nbconvert_exporter": "python",
   "pygments_lexer": "ipython3",
   "version": "3.12.5"
  }
 },
 "nbformat": 4,
 "nbformat_minor": 5
}
